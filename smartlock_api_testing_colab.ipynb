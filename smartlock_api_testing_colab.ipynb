{
  "cells": [
    {
      "cell_type": "markdown",
      "metadata": {
        "id": "header"
      },
      "source": [
        "# \ud83d\udd2c SmartLock Admin API Testing\n",
        "\n",
        "[![Open In Colab](https://colab.research.google.com/assets/colab-badge.svg)](https://colab.research.google.com/github/spk-alex/smartlock-api-colab/blob/main/smartlock_api_testing_colab.ipynb)\n",
        "[![GitHub](https://img.shields.io/badge/GitHub-View%20Source-blue?logo=github)](https://github.com/spk-alex/smartlock-api-colab)\n",
        "\n",
        "**\ud83d\ude80 Test the SmartLock Admin API interactively - no installation required!**\n",
        "\n",
        "## What This Notebook Does\n",
        "\n",
        "This notebook demonstrates the complete SmartLock API workflow:\n",
        "1. \u2705 **Create a user** - Register a new user in the system\n",
        "2. \ud83d\udd11 **Generate JWT token** - Create authentication for API calls\n",
        "3. \ud83c\udfe0 **Create a smart lock** - Add a new smart lock for the user\n",
        "4. \ud83d\udc65 **Add a resident** - Add a resident to the smart lock\n",
        "5. \ud83d\udcca **Test all endpoints** - Verify everything works correctly\n",
        "6. \ud83e\uddf9 **Automatic cleanup** - Remove test data safely\n",
        "\n",
        "## \ud83d\udee0\ufe0f How to Use\n",
        "\n",
        "1. **Choose environment** in the next cell (Development or Staging)\n",
        "2. **Click \"Runtime\" \u2192 \"Run all\"** to execute all tests\n",
        "3. **Watch the progress** as each test runs\n",
        "4. **Review results** at the end\n",
        "\n",
        "## \ud83d\udd12 Safety\n",
        "\n",
        "- \u2705 Uses **test environments only** (never production)\n",
        "- \u2705 Creates **temporary test data** (unique per run)\n",
        "- \u2705 **Automatic cleanup** removes test data\n",
        "- \u2705 **No real user data** involved\n",
        "\n",
        "*Last updated: 2025-06-10 13:42:08 UTC from CI/CD pipeline*\n",
        "\n",
        "---\n"
      ]
    },
    {
      "cell_type": "code",
      "execution_count": null,
      "metadata": {
        "id": "config",
        "cellView": "form"
      },
      "outputs": [],
      "source": [
        "#@title \ud83c\udfaf Choose API Environment { display-mode: \"form\" }\n",
        "#@markdown Select which environment you want to test:\n",
        "\n",
        "ENVIRONMENT = \"staging\" #@param [\"development\", \"staging\"]\n",
        "CUSTOM_BASE_URL = \"\" #@param {type:\"string\"}\n",
        "API_TIMEOUT = 45 #@param {type:\"slider\", min:10, max:120, step:5}\n",
        "SHOW_DETAILED_LOGS = True #@param {type:\"boolean\"}\n",
        "\n",
        "# Environment URLs\n",
        "ENVIRONMENT_URLS = {\n",
        "    \"development\": \"https://restate-dev.api.spkey.co\",\n",
        "    \"staging\": \"https://restate-staging.api.spkey.co\"\n",
        "}\n",
        "\n",
        "# Use custom URL if provided, otherwise use environment default\n",
        "if CUSTOM_BASE_URL.strip():\n",
        "    BASE_URL = CUSTOM_BASE_URL.strip()\n",
        "    print(f\"\ud83c\udf10 Using custom URL: {BASE_URL}\")\n",
        "else:\n",
        "    BASE_URL = ENVIRONMENT_URLS[ENVIRONMENT]\n",
        "    print(f\"\ud83c\udf10 Using {ENVIRONMENT} environment: {BASE_URL}\")\n",
        "\n",
        "print(f\"\u23f1\ufe0f API timeout: {API_TIMEOUT} seconds\")\n",
        "print(f\"\ud83d\udccb Detailed logs: {'Enabled' if SHOW_DETAILED_LOGS else 'Disabled'}\")\n",
        "print(f\"\\n\u2705 Configuration ready! You can now run the tests.\")\n",
        "\n",
        "# Set CI/CD compatibility variables\n",
        "CI_COMMIT_SHA = \"colab-user\"\n",
        "CI_PIPELINE_ID = \"colab-session\"\n"
      ]
    },
    {
      "cell_type": "code",
      "execution_count": null,
      "metadata": {
        "id": "install"
      },
      "outputs": [],
      "source": [
        "# Install required packages (only in Colab)\n",
        "print(\"\ud83d\udce6 Installing required packages...\")\n",
        "!pip install requests pandas -q\n",
        "print(\"\u2705 Packages installed!\")\n",
        "\n",
        "# Import libraries\n",
        "import requests\n",
        "import json\n",
        "import base64\n",
        "import uuid\n",
        "import random\n",
        "import string\n",
        "import time\n",
        "from datetime import datetime, timedelta\n",
        "from typing import Dict, Any, Optional\n",
        "import pandas as pd\n",
        "from pprint import pprint\n",
        "\n",
        "print(\"\ud83d\udcda All libraries imported successfully!\")\n"
      ]
    },
    {
      "cell_type": "markdown",
      "metadata": {
        "id": "markdown_0"
      },
      "source": [
        "# SmartLock Admin API Testing Notebook\n",
        "\n",
        "This notebook tests the SmartLock Admin API endpoints using the public Cloudflare domain.\n",
        "It demonstrates the complete flow:\n",
        "1. Create a user\n",
        "2. Generate JWT token for authentication\n",
        "3. Create a smart lock for the user\n",
        "4. Add a resident to the lock\n",
        "5. Test getting locks for the user\n",
        "6. Test getting residents for the lock"
      ]
    },
    {
      "cell_type": "markdown",
      "metadata": {
        "id": "markdown_1"
      },
      "source": [
        "## Configuration and Imports"
      ]
    },
    {
      "cell_type": "markdown",
      "metadata": {
        "id": "markdown_3"
      },
      "source": [
        "## Parameters (for CI/CD execution)\n",
        "\n",
        "These parameters can be overridden by papermill during CI/CD execution:"
      ]
    },
    {
      "cell_type": "markdown",
      "metadata": {
        "id": "markdown_5"
      },
      "source": [
        "## Configuration Parameters\n",
        "\n",
        "Modify these parameters for different test scenarios:"
      ]
    },
    {
      "cell_type": "markdown",
      "metadata": {
        "id": "markdown_7"
      },
      "source": [
        "## JWT Token Generation\n",
        "\n",
        "Create a simple JWT token for testing authentication:"
      ]
    },
    {
      "cell_type": "code",
      "execution_count": null,
      "metadata": {
        "id": "cell_8"
      },
      "outputs": [],
      "source": [
        "def create_test_jwt_token(user_id: str, expires_in_hours: int = 24) -> str:\n",
        "    \"\"\"\n",
        "    Create a simple JWT token for testing purposes.\n",
        "    \n",
        "    Note: This creates an unsigned JWT token for testing.\n",
        "    In production, tokens should be properly signed and validated.\n",
        "    \"\"\"\n",
        "    # JWT Header\n",
        "    header = {\n",
        "        \"alg\": \"HS256\",\n",
        "        \"typ\": \"JWT\"\n",
        "    }\n",
        "    \n",
        "    # JWT Payload\n",
        "    now = datetime.utcnow()\n",
        "    exp = now + timedelta(hours=expires_in_hours)\n",
        "    \n",
        "    payload = {\n",
        "        \"sub\": user_id,  # Subject - the user ID\n",
        "        \"iat\": int(now.timestamp()),  # Issued at\n",
        "        \"exp\": int(exp.timestamp()),  # Expiration\n",
        "        \"iss\": \"test-issuer\",  # Issuer\n",
        "        \"aud\": \"smartlock-api\"  # Audience\n",
        "    }\n",
        "    \n",
        "    # Encode header and payload\n",
        "    header_encoded = base64.urlsafe_b64encode(json.dumps(header).encode()).decode().rstrip('=')\n",
        "    payload_encoded = base64.urlsafe_b64encode(json.dumps(payload).encode()).decode().rstrip('=')\n",
        "    \n",
        "    # Create unsigned token (for testing only)\n",
        "    signature = \"test-signature\"  # In production, this would be a proper HMAC signature\n",
        "    \n",
        "    jwt_token = f\"{header_encoded}.{payload_encoded}.{signature}\"\n",
        "    return jwt_token\n",
        "\n",
        "# Generate JWT token for our test user\n",
        "JWT_TOKEN = create_test_jwt_token(USER_ID)\n",
        "print(f\"Generated JWT Token: {JWT_TOKEN[:50]}...\")\n",
        "print(f\"Token length: {len(JWT_TOKEN)}\")"
      ]
    },
    {
      "cell_type": "markdown",
      "metadata": {
        "id": "markdown_9"
      },
      "source": [
        "## API Helper Functions"
      ]
    },
    {
      "cell_type": "code",
      "execution_count": null,
      "metadata": {
        "id": "cell_10"
      },
      "outputs": [],
      "source": [
        "def make_api_request(endpoint: str, data: Dict[str, Any], \n",
        "                    use_auth: bool = True, timeout: int = API_TIMEOUT) -> Dict[str, Any]:\n",
        "    \"\"\"\n",
        "    Make an API request to the specified endpoint.\n",
        "    \n",
        "    Args:\n",
        "        endpoint: API endpoint (without base URL)\n",
        "        data: Request payload\n",
        "        use_auth: Whether to include JWT authentication\n",
        "        timeout: Request timeout in seconds\n",
        "        \n",
        "    Returns:\n",
        "        API response as dictionary\n",
        "    \"\"\"\n",
        "    url = f\"{BASE_URL}/{endpoint}\"\n",
        "    headers = {\n",
        "        \"Content-Type\": \"application/json\"\n",
        "    }\n",
        "    \n",
        "    if use_auth:\n",
        "        headers[\"X-Original-Authorization\"] = f\"Bearer {JWT_TOKEN}\"\n",
        "    \n",
        "    print(f\"\ud83d\ude80 Making request to: {url}\")\n",
        "    print(f\"\ud83d\udce4 Request data: {json.dumps(data, indent=2)}\")\n",
        "    \n",
        "    try:\n",
        "        response = requests.post(url, json=data, headers=headers, timeout=timeout)\n",
        "        \n",
        "        print(f\"\ud83d\udcca Response status: {response.status_code}\")\n",
        "        \n",
        "        # Try to parse JSON response\n",
        "        try:\n",
        "            response_data = response.json()\n",
        "            print(f\"\ud83d\udce5 Response data: {json.dumps(response_data, indent=2)}\")\n",
        "        except json.JSONDecodeError:\n",
        "            response_data = {\"raw_response\": response.text}\n",
        "            print(f\"\ud83d\udce5 Raw response: {response.text}\")\n",
        "        \n",
        "        return {\n",
        "            \"status_code\": response.status_code,\n",
        "            \"success\": response.status_code < 400,\n",
        "            \"data\": response_data,\n",
        "            \"headers\": dict(response.headers)\n",
        "        }\n",
        "        \n",
        "    except requests.exceptions.Timeout:\n",
        "        print(f\"\u23f0 Request timed out after {timeout} seconds\")\n",
        "        return {\n",
        "            \"status_code\": 408,\n",
        "            \"success\": False,\n",
        "            \"error\": \"Request timeout\",\n",
        "            \"data\": None\n",
        "        }\n",
        "    except requests.exceptions.RequestException as e:\n",
        "        print(f\"\u274c Request failed: {str(e)}\")\n",
        "        return {\n",
        "            \"status_code\": 500,\n",
        "            \"success\": False,\n",
        "            \"error\": str(e),\n",
        "            \"data\": None\n",
        "        }\n",
        "\n",
        "def print_section_header(title: str):\n",
        "    \"\"\"Print a formatted section header\"\"\"\n",
        "    print(\"\\n\" + \"=\"*60)\n",
        "    print(f\"  {title}\")\n",
        "    print(\"=\"*60)"
      ]
    },
    {
      "cell_type": "markdown",
      "metadata": {
        "id": "markdown_11"
      },
      "source": [
        "## Test Results Storage"
      ]
    },
    {
      "cell_type": "code",
      "execution_count": null,
      "metadata": {
        "id": "cell_12"
      },
      "outputs": [],
      "source": [
        "# Dictionary to store test results\n",
        "test_results = {\n",
        "    \"create_user\": None,\n",
        "    \"create_smart_lock\": None,\n",
        "    \"add_resident\": None,\n",
        "    \"get_user_locks\": None,\n",
        "    \"get_lock_residents\": None\n",
        "}\n",
        "\n",
        "# Variables to store created IDs\n",
        "created_lock_id = None\n",
        "created_lock_uuid = None"
      ]
    },
    {
      "cell_type": "markdown",
      "metadata": {
        "id": "markdown_13"
      },
      "source": [
        "## 1. Create a User\n",
        "\n",
        "First, let's create a new user:"
      ]
    },
    {
      "cell_type": "code",
      "execution_count": null,
      "metadata": {
        "id": "cell_14"
      },
      "outputs": [],
      "source": [
        "print_section_header(\"STEP 1: CREATE USER\")\n",
        "\n",
        "create_user_payload = {\n",
        "    \"id\": USER_ID,\n",
        "    \"username\": USER_USERNAME,\n",
        "    \"email\": USER_EMAIL\n",
        "}\n",
        "\n",
        "result = make_api_request(\n",
        "    endpoint=\"UserRestateService/createUser\",\n",
        "    data=create_user_payload,\n",
        "    use_auth=False  # User creation might not require auth\n",
        ")\n",
        "\n",
        "test_results[\"create_user\"] = result\n",
        "\n",
        "if result[\"success\"]:\n",
        "    print(\"\u2705 User created successfully!\")\n",
        "else:\n",
        "    error_msg = str(result.get(\"data\", \"\")).lower()\n",
        "    if \"already exists\" in error_msg or \"duplicate\" in error_msg:\n",
        "        print(\"\u2139\ufe0f  User already exists, continuing with tests...\")\n",
        "        # Mark as success for test flow purposes\n",
        "        test_results[\"create_user\"][\"success\"] = True\n",
        "    else:\n",
        "        print(\"\u274c Failed to create user\")\n",
        "        print(f\"   Error: {result.get('data', 'Unknown error')}\")"
      ]
    },
    {
      "cell_type": "markdown",
      "metadata": {
        "id": "markdown_15"
      },
      "source": [
        "## 2. Create a Smart Lock\n",
        "\n",
        "Now let's create a smart lock for our user:"
      ]
    },
    {
      "cell_type": "code",
      "execution_count": null,
      "metadata": {
        "id": "cell_16"
      },
      "outputs": [],
      "source": [
        "print_section_header(\"STEP 2: CREATE SMART LOCK\")\n",
        "\n",
        "# Generate a UUID for the smart lock\n",
        "lock_uuid = str(uuid.uuid4())\n",
        "created_lock_uuid = lock_uuid\n",
        "\n",
        "create_lock_payload = {\n",
        "    \"id\": lock_uuid,\n",
        "    \"name\": LOCK_NAME,\n",
        "    \"ownerId\": USER_ID,\n",
        "    \"indexNumber\": LOCK_INDEX,\n",
        "    \"passcode\": LOCK_PASSCODE,\n",
        "    \"serialNumber\": f\"SL-{generate_random_string(8).upper()}\"\n",
        "}\n",
        "\n",
        "result = make_api_request(\n",
        "    endpoint=\"SmartLockRestateService/createSmartLock\",\n",
        "    data=create_lock_payload,\n",
        "    use_auth=True\n",
        ")\n",
        "\n",
        "test_results[\"create_smart_lock\"] = result\n",
        "\n",
        "if result[\"success\"]:\n",
        "    print(\"\u2705 Smart lock created successfully!\")\n",
        "    created_lock_id = result[\"data\"]\n",
        "    print(f\"\ud83d\udcdd Created lock ID: {created_lock_id}\")\n",
        "else:\n",
        "    error_msg = str(result.get(\"data\", \"\")).lower()\n",
        "    if \"already exists\" in error_msg or \"duplicate\" in error_msg:\n",
        "        print(\"\u2139\ufe0f  Smart lock already exists, using existing one...\")\n",
        "        created_lock_id = lock_uuid\n",
        "        # Mark as success for test flow purposes\n",
        "        test_results[\"create_smart_lock\"][\"success\"] = True\n",
        "    else:\n",
        "        print(\"\u274c Failed to create smart lock\")\n",
        "        print(f\"   Error: {result.get('data', 'Unknown error')}\")"
      ]
    },
    {
      "cell_type": "markdown",
      "metadata": {
        "id": "markdown_17"
      },
      "source": [
        "## 3. Add a Resident to the Lock\n",
        "\n",
        "Let's add a resident to our smart lock:"
      ]
    },
    {
      "cell_type": "code",
      "execution_count": null,
      "metadata": {
        "id": "cell_18"
      },
      "outputs": [],
      "source": [
        "print_section_header(\"STEP 3: ADD RESIDENT TO LOCK\")\n",
        "\n",
        "add_resident_payload = {\n",
        "    \"lockIndex\": LOCK_INDEX,\n",
        "    \"residentName\": RESIDENT_NAME,\n",
        "    \"email\": RESIDENT_EMAIL\n",
        "}\n",
        "\n",
        "result = make_api_request(\n",
        "    endpoint=\"SmartLockRestateService/addResident\",\n",
        "    data=add_resident_payload,\n",
        "    use_auth=True\n",
        ")\n",
        "\n",
        "test_results[\"add_resident\"] = result\n",
        "\n",
        "if result[\"success\"]:\n",
        "    print(\"\u2705 Resident added successfully!\")\n",
        "else:\n",
        "    print(\"\u274c Failed to add resident\")"
      ]
    },
    {
      "cell_type": "markdown",
      "metadata": {
        "id": "markdown_19"
      },
      "source": [
        "## 4. Get All Smart Locks for User\n",
        "\n",
        "Retrieve all smart locks owned by our user:"
      ]
    },
    {
      "cell_type": "code",
      "execution_count": null,
      "metadata": {
        "id": "cell_20"
      },
      "outputs": [],
      "source": [
        "print_section_header(\"STEP 4: GET USER'S SMART LOCKS\")\n",
        "\n",
        "get_locks_payload = {\n",
        "    \"ownerId\": USER_ID  # This will be overridden by auth context\n",
        "}\n",
        "\n",
        "result = make_api_request(\n",
        "    endpoint=\"SmartLockRestateService/getAllSmartLocks\",\n",
        "    data=get_locks_payload,\n",
        "    use_auth=True\n",
        ")\n",
        "\n",
        "test_results[\"get_user_locks\"] = result\n",
        "\n",
        "if result[\"success\"]:\n",
        "    print(\"\u2705 Successfully retrieved smart locks!\")\n",
        "    locks = result[\"data\"]\n",
        "    if isinstance(locks, list):\n",
        "        print(f\"\ud83d\udcca Found {len(locks)} smart lock(s)\")\n",
        "        for i, lock in enumerate(locks):\n",
        "            print(f\"  Lock {i+1}: {lock.get('name', 'N/A')} (ID: {lock.get('id', 'N/A')})\")\n",
        "else:\n",
        "    print(\"\u274c Failed to retrieve smart locks\")"
      ]
    },
    {
      "cell_type": "markdown",
      "metadata": {
        "id": "markdown_21"
      },
      "source": [
        "## 5. Get Residents for the Lock\n",
        "\n",
        "Retrieve all residents for our smart lock:"
      ]
    },
    {
      "cell_type": "code",
      "execution_count": null,
      "metadata": {
        "id": "cell_22"
      },
      "outputs": [],
      "source": [
        "print_section_header(\"STEP 5: GET LOCK RESIDENTS\")\n",
        "\n",
        "get_residents_payload = {\n",
        "    \"lockIndex\": LOCK_INDEX\n",
        "}\n",
        "\n",
        "result = make_api_request(\n",
        "    endpoint=\"SmartLockRestateService/getResidentsByLockIndex\",\n",
        "    data=get_residents_payload,\n",
        "    use_auth=True\n",
        ")\n",
        "\n",
        "test_results[\"get_lock_residents\"] = result\n",
        "\n",
        "if result[\"success\"]:\n",
        "    print(\"\u2705 Successfully retrieved residents!\")\n",
        "    residents = result[\"data\"]\n",
        "    if isinstance(residents, list):\n",
        "        print(f\"\ud83d\udcca Found {len(residents)} resident(s)\")\n",
        "        for i, resident in enumerate(residents):\n",
        "            print(f\"  Resident {i+1}: {resident.get('residentName', 'N/A')} ({resident.get('email', 'N/A')})\")\n",
        "else:\n",
        "    print(\"\u274c Failed to retrieve residents\")"
      ]
    },
    {
      "cell_type": "markdown",
      "metadata": {
        "id": "markdown_23"
      },
      "source": [
        "## 6. Bonus: Get User Information\n",
        "\n",
        "Let's also test getting the user information:"
      ]
    },
    {
      "cell_type": "code",
      "execution_count": null,
      "metadata": {
        "id": "cell_24"
      },
      "outputs": [],
      "source": [
        "print_section_header(\"BONUS: GET USER INFORMATION\")\n",
        "\n",
        "get_user_payload = {\n",
        "    \"userId\": USER_ID\n",
        "}\n",
        "\n",
        "result = make_api_request(\n",
        "    endpoint=\"UserRestateService/getUserById\",\n",
        "    data=get_user_payload,\n",
        "    use_auth=False\n",
        ")\n",
        "\n",
        "if result[\"success\"]:\n",
        "    print(\"\u2705 Successfully retrieved user information!\")\n",
        "    user_data = result[\"data\"]\n",
        "    if user_data:\n",
        "        print(f\"\ud83d\udcca User Details:\")\n",
        "        print(f\"  ID: {user_data.get('id', 'N/A')}\")\n",
        "        print(f\"  Username: {user_data.get('username', 'N/A')}\")\n",
        "        print(f\"  Email: {user_data.get('email', 'N/A')}\")\n",
        "        print(f\"  Smart Locks: {len(user_data.get('smartLockIds', []))}\")\n",
        "        print(f\"  Keys: {len(user_data.get('keyIds', []))}\")\n",
        "else:\n",
        "    print(\"\u274c Failed to retrieve user information\")"
      ]
    },
    {
      "cell_type": "markdown",
      "metadata": {
        "id": "markdown_25"
      },
      "source": [
        "## \ud83e\uddf9 Test Cleanup\n",
        "\n",
        "Clean up test data to prevent conflicts in future test runs:"
      ]
    },
    {
      "cell_type": "code",
      "execution_count": null,
      "metadata": {
        "id": "cell_26"
      },
      "outputs": [],
      "source": [
        "print_section_header(\"TEST CLEANUP\")\n",
        "\n",
        "cleanup_results = []\n",
        "\n",
        "def cleanup_resident(lock_id: str, resident_email: str) -> bool:\n",
        "    \"\"\"Clean up a resident from a smart lock.\"\"\"\n",
        "    try:\n",
        "        print(f\"\ud83e\uddf9 Cleaning up resident: {resident_email} from lock: {lock_id}\")\n",
        "        \n",
        "        cleanup_payload = {\n",
        "            \"smartLockId\": lock_id,\n",
        "            \"email\": resident_email\n",
        "        }\n",
        "        \n",
        "        result = make_api_request(\n",
        "            endpoint=\"SmartLockRestateService/deleteBuildingResident\",\n",
        "            data=cleanup_payload,\n",
        "            use_auth=True\n",
        "        )\n",
        "        \n",
        "        if result[\"success\"]:\n",
        "            print(f\"\u2705 Resident {resident_email} deleted successfully\")\n",
        "            return True\n",
        "        else:\n",
        "            print(f\"\u26a0\ufe0f  Failed to delete resident {resident_email}: {result.get('data', 'Unknown error')}\")\n",
        "            return False\n",
        "            \n",
        "    except Exception as e:\n",
        "        print(f\"\u26a0\ufe0f  Error during resident cleanup: {str(e)}\")\n",
        "        return False\n",
        "\n",
        "# Cleanup created test data (non-blocking - don't fail tests if cleanup fails)\n",
        "print(\"\ud83e\uddf9 Starting test data cleanup...\")\n",
        "\n",
        "# Clean up resident if it was created and we have a lock ID\n",
        "if created_lock_uuid and test_results.get(\"add_resident\", {}).get(\"success\", False):\n",
        "    cleanup_success = cleanup_resident(created_lock_uuid, RESIDENT_EMAIL)\n",
        "    cleanup_results.append((\"Resident\", RESIDENT_EMAIL, cleanup_success))\n",
        "else:\n",
        "    print(\"\u2139\ufe0f  No resident to clean up (not created or creation failed)\")\n",
        "\n",
        "# Note: Users and SmartLocks don't have delete endpoints in the current API\n",
        "# Using unique timestamp-based IDs reduces collision probability for future runs\n",
        "\n",
        "print(\"\\n\ud83d\udccb Cleanup Summary:\")\n",
        "if cleanup_results:\n",
        "    for item_type, item_id, success in cleanup_results:\n",
        "        status = \"\u2705 Deleted\" if success else \"\u26a0\ufe0f  Failed\"\n",
        "        print(f\"   {item_type}: {item_id} - {status}\")\n",
        "else:\n",
        "    print(\"   No cleanup operations performed\")\n",
        "\n",
        "print(\"\\n\ud83d\udca1 Future Collision Prevention:\")\n",
        "print(f\"   Using timestamp-based IDs: {timestamp}\")\n",
        "print(f\"   Lock Index: {LOCK_INDEX} (timestamp-derived)\")\n",
        "print(f\"   User ID: {USER_ID} (unique per run)\")\n",
        "print(\"\u2705 Cleanup completed\")"
      ]
    },
    {
      "cell_type": "markdown",
      "metadata": {
        "id": "markdown_27"
      },
      "source": [
        "## Test Summary and Results Analysis"
      ]
    },
    {
      "cell_type": "code",
      "execution_count": null,
      "metadata": {
        "id": "cell_28"
      },
      "outputs": [],
      "source": [
        "print_section_header(\"TEST SUMMARY\")\n",
        "\n",
        "# Create a summary table\n",
        "summary_data = []\n",
        "for test_name, result in test_results.items():\n",
        "    if result:\n",
        "        status = \"\u2705 PASS\" if result[\"success\"] else \"\u274c FAIL\"\n",
        "        status_code = result[\"status_code\"]\n",
        "        error = result.get(\"error\", \"None\")\n",
        "    else:\n",
        "        status = \"\u23ed\ufe0f SKIP\"\n",
        "        status_code = \"N/A\"\n",
        "        error = \"Not executed\"\n",
        "    \n",
        "    summary_data.append({\n",
        "        \"Test\": test_name.replace(\"_\", \" \").title(),\n",
        "        \"Status\": status,\n",
        "        \"HTTP Code\": status_code,\n",
        "        \"Error\": error\n",
        "    })\n",
        "\n",
        "summary_df = pd.DataFrame(summary_data)\n",
        "print(summary_df.to_string(index=False))\n",
        "\n",
        "# Calculate success rate\n",
        "total_tests = len([r for r in test_results.values() if r is not None])\n",
        "successful_tests = len([r for r in test_results.values() if r and r[\"success\"]])\n",
        "success_rate = (successful_tests / total_tests * 100) if total_tests > 0 else 0\n",
        "\n",
        "print(f\"\\n\ud83d\udcca Success Rate: {successful_tests}/{total_tests} ({success_rate:.1f}%)\")\n",
        "\n",
        "# Show test configuration used\n",
        "print(f\"\\n\ud83d\udd27 Test Configuration Used:\")\n",
        "config_data = [\n",
        "    [\"User ID\", USER_ID],\n",
        "    [\"User Email\", USER_EMAIL],\n",
        "    [\"User Username\", USER_USERNAME],\n",
        "    [\"Lock Name\", LOCK_NAME],\n",
        "    [\"Lock Index\", LOCK_INDEX],\n",
        "    [\"Lock UUID\", created_lock_uuid or \"Not created\"],\n",
        "    [\"Resident Name\", RESIDENT_NAME],\n",
        "    [\"Resident Email\", RESIDENT_EMAIL],\n",
        "    [\"Base URL\", BASE_URL]\n",
        "]\n",
        "\n",
        "config_df = pd.DataFrame(config_data, columns=[\"Parameter\", \"Value\"])\n",
        "print(config_df.to_string(index=False))"
      ]
    },
    {
      "cell_type": "markdown",
      "metadata": {
        "id": "markdown_29"
      },
      "source": [
        "## Additional Test Utilities\n",
        "\n",
        "Helper functions for running individual tests or custom scenarios:"
      ]
    },
    {
      "cell_type": "code",
      "execution_count": null,
      "metadata": {
        "id": "cell_30"
      },
      "outputs": [],
      "source": [
        "def test_get_smart_lock_by_id(lock_id: str):\n",
        "    \"\"\"Test getting a specific smart lock by ID\"\"\"\n",
        "    print(f\"\ud83d\udd0d Testing get smart lock by ID: {lock_id}\")\n",
        "    \n",
        "    payload = {\"smartLockId\": lock_id}\n",
        "    result = make_api_request(\n",
        "        endpoint=\"SmartLockRestateService/getSmartLockById\",\n",
        "        data=payload,\n",
        "        use_auth=True\n",
        "    )\n",
        "    return result\n",
        "\n",
        "def test_get_smart_lock_by_index(index: int):\n",
        "    \"\"\"Test getting a specific smart lock by index\"\"\"\n",
        "    print(f\"\ud83d\udd0d Testing get smart lock by index: {index}\")\n",
        "    \n",
        "    payload = {\"indexNumber\": index}\n",
        "    result = make_api_request(\n",
        "        endpoint=\"SmartLockRestateService/getSmartLockByIndex\",\n",
        "        data=payload,\n",
        "        use_auth=True\n",
        "    )\n",
        "    return result\n",
        "\n",
        "def test_get_user_by_email(email: str):\n",
        "    \"\"\"Test getting a user by email\"\"\"\n",
        "    print(f\"\ud83d\udd0d Testing get user by email: {email}\")\n",
        "    \n",
        "    payload = {\"email\": email}\n",
        "    result = make_api_request(\n",
        "        endpoint=\"UserRestateService/getUserByEmail\",\n",
        "        data=payload,\n",
        "        use_auth=False\n",
        "    )\n",
        "    return result\n",
        "\n",
        "def test_custom_scenario():\n",
        "    \"\"\"Run custom test scenarios here\"\"\"\n",
        "    print(\"\ud83e\uddea Running custom test scenarios...\")\n",
        "    \n",
        "    # Example: Test getting smart lock by ID if we have one\n",
        "    if created_lock_uuid:\n",
        "        result = test_get_smart_lock_by_id(created_lock_uuid)\n",
        "        print(f\"Get lock by ID result: {result['success']}\")\n",
        "    \n",
        "    # Example: Test getting smart lock by index\n",
        "    result = test_get_smart_lock_by_index(LOCK_INDEX)\n",
        "    print(f\"Get lock by index result: {result['success']}\")\n",
        "    \n",
        "    # Example: Test getting user by email\n",
        "    result = test_get_user_by_email(USER_EMAIL)\n",
        "    print(f\"Get user by email result: {result['success']}\")\n",
        "\n",
        "# Uncomment the line below to run custom scenarios\n",
        "# test_custom_scenario()"
      ]
    },
    {
      "cell_type": "markdown",
      "metadata": {
        "id": "markdown_31"
      },
      "source": [
        "## Performance Analysis\n",
        "\n",
        "Analyze response times and performance metrics:"
      ]
    },
    {
      "cell_type": "code",
      "execution_count": null,
      "metadata": {
        "id": "cell_32"
      },
      "outputs": [],
      "source": [
        "def benchmark_endpoint(endpoint: str, payload: dict, iterations: int = 3):\n",
        "    \"\"\"Benchmark an endpoint with multiple requests\"\"\"\n",
        "    print(f\"\u23f1\ufe0f  Benchmarking {endpoint} with {iterations} iterations...\")\n",
        "    \n",
        "    response_times = []\n",
        "    success_count = 0\n",
        "    \n",
        "    for i in range(iterations):\n",
        "        start_time = time.time()\n",
        "        result = make_api_request(endpoint, payload, use_auth=True)\n",
        "        end_time = time.time()\n",
        "        \n",
        "        response_time = end_time - start_time\n",
        "        response_times.append(response_time)\n",
        "        \n",
        "        if result[\"success\"]:\n",
        "            success_count += 1\n",
        "        \n",
        "        print(f\"  Iteration {i+1}: {response_time:.2f}s - {'\u2705' if result['success'] else '\u274c'}\")\n",
        "        time.sleep(1)  # Small delay between requests\n",
        "    \n",
        "    avg_time = sum(response_times) / len(response_times)\n",
        "    success_rate = (success_count / iterations) * 100\n",
        "    \n",
        "    print(f\"\ud83d\udcca Average response time: {avg_time:.2f}s\")\n",
        "    print(f\"\ud83d\udcca Success rate: {success_rate:.1f}%\")\n",
        "    print(f\"\ud83d\udcca Min/Max time: {min(response_times):.2f}s / {max(response_times):.2f}s\")\n",
        "    \n",
        "    return {\n",
        "        \"avg_time\": avg_time,\n",
        "        \"success_rate\": success_rate,\n",
        "        \"response_times\": response_times\n",
        "    }\n",
        "\n",
        "# Example: Benchmark getting all smart locks\n",
        "# benchmark_result = benchmark_endpoint(\n",
        "#     \"SmartLockRestateService/getAllSmartLocks\",\n",
        "#     {\"ownerId\": USER_ID},\n",
        "#     iterations=3\n",
        "# )"
      ]
    },
    {
      "cell_type": "markdown",
      "metadata": {
        "id": "markdown_33"
      },
      "source": [
        "## Cleanup (Optional)\n",
        "\n",
        "If the API supports deletion operations, you can add cleanup code here:"
      ]
    },
    {
      "cell_type": "code",
      "execution_count": null,
      "metadata": {
        "id": "cell_34"
      },
      "outputs": [],
      "source": [
        "def cleanup_test_data():\n",
        "    \"\"\"Cleanup test data - implement if deletion endpoints are available\"\"\"\n",
        "    print(\"\ud83e\uddf9 Cleanup functionality not implemented yet\")\n",
        "    print(\"   (API deletion endpoints would be needed)\")\n",
        "    print(f\"   Created test data:\")\n",
        "    print(f\"   - User ID: {USER_ID}\")\n",
        "    print(f\"   - Lock UUID: {created_lock_uuid}\")\n",
        "    print(f\"   - Lock Index: {LOCK_INDEX}\")\n",
        "\n",
        "# Uncomment to run cleanup\n",
        "# cleanup_test_data()"
      ]
    },
    {
      "cell_type": "markdown",
      "metadata": {
        "id": "markdown_35"
      },
      "source": [
        "## Conclusion\n",
        "\n",
        "This notebook demonstrates the complete API testing flow:\n",
        "\n",
        "1. \u2705 **User Creation**: Creates a new user with random data\n",
        "2. \u2705 **JWT Authentication**: Generates test JWT tokens for API authentication\n",
        "3. \u2705 **Smart Lock Management**: Creates smart locks and associates them with users\n",
        "4. \u2705 **Resident Management**: Adds residents to smart locks\n",
        "5. \u2705 **Data Retrieval**: Tests various GET endpoints\n",
        "6. \u2705 **Error Handling**: Properly handles timeouts and errors\n",
        "7. \u2705 **Performance Monitoring**: Provides timing and success rate analysis\n",
        "\n",
        "### Customization\n",
        "\n",
        "To customize this notebook for different test scenarios:\n",
        "\n",
        "1. **Modify the configuration section** to use specific test data\n",
        "2. **Adjust the JWT token generation** if your authentication requirements differ\n",
        "3. **Add new test functions** for additional endpoints\n",
        "4. **Use the benchmark functions** to test performance under load\n",
        "\n",
        "### Notes\n",
        "\n",
        "- The JWT tokens generated here are for testing purposes and use a simple format\n",
        "- All test data uses random values by default to avoid conflicts\n",
        "- The notebook handles both successful responses and various error conditions\n",
        "- Response times and success rates are tracked for performance analysis"
      ]
    },
    {
      "cell_type": "code",
      "execution_count": null,
      "metadata": {
        "id": "colab_summary"
      },
      "outputs": [],
      "source": [
        "# Colab-specific results summary\n",
        "print(\"\\n\" + \"=\"*80)\n",
        "print(\"\ud83c\udf89 GOOGLE COLAB TEST SUMMARY\")\n",
        "print(\"=\"*80)\n",
        "\n",
        "# Calculate final statistics\n",
        "total_tests = len([t for t in test_results.values() if t is not None])\n",
        "passed_tests = len([t for t in test_results.values() if t and t.get(\"success\", False)])\n",
        "failed_tests = total_tests - passed_tests\n",
        "success_rate = (passed_tests/total_tests*100) if total_tests > 0 else 0\n",
        "\n",
        "print(f\"\ud83d\udcca Test Results:\")\n",
        "print(f\"   \u2705 Passed: {passed_tests}/{total_tests} ({success_rate:.1f}%)\")\n",
        "print(f\"   \ud83c\udf10 Environment: {ENVIRONMENT} ({BASE_URL})\")\n",
        "print(f\"   \u23f1\ufe0f Session Duration: {(datetime.now() - test_metadata['start_time']).total_seconds():.1f}s\")\n",
        "\n",
        "if success_rate >= 100:\n",
        "    print(f\"\\n\ud83c\udf89 EXCELLENT! All tests passed. The SmartLock API is working perfectly!\")\n",
        "elif success_rate >= 80:\n",
        "    print(f\"\\n\u2705 GOOD! Most tests passed. Minor issues detected.\")\n",
        "else:\n",
        "    print(f\"\\n\u26a0\ufe0f ATTENTION! Several tests failed. Please check the details above.\")\n",
        "\n",
        "print(f\"\\n\ud83d\udca1 Tips:\")\n",
        "print(f\"   \u2022 Re-run this notebook anytime to test again\")\n",
        "print(f\"   \u2022 Each run uses unique test data to avoid conflicts\")\n",
        "print(f\"   \u2022 Try different environments using the configuration above\")\n",
        "print(f\"   \u2022 Download results using the export cell if needed\")\n",
        "\n",
        "print(f\"\\n\ud83d\udd17 Useful Links:\")\n",
        "print(f\"   \ud83d\udcc4 This notebook: https://colab.research.google.com/github/{os.getenv('COLAB_GITHUB_REPO', 'your-org/repo')}/blob/main/smartlock_api_testing_colab.ipynb\")\n",
        "print(f\"   \ud83d\udcda API Documentation: [Contact support for API docs]\")\n",
        "print(f\"   \ud83d\udc1b Report Issues: [Contact support for issue reporting]\")\n",
        "print(f\"   \ud83d\udcac Support: [Contact support team]\")\n",
        "\n",
        "print(f\"\\n\ud83e\udd16 This notebook was automatically generated and updated by CI/CD\")\n",
        "print(f\"   Last update: {datetime.now().strftime('%Y-%m-%d %H:%M:%S UTC')}\")\n",
        "print(f\"   Source commit: {os.getenv('CI_COMMIT_SHA', 'unknown')}\")\n",
        "print(\"=\"*80)\n"
      ]
    },
    {
      "cell_type": "code",
      "execution_count": null,
      "metadata": {
        "id": "export",
        "cellView": "form"
      },
      "outputs": [],
      "source": [
        "#@title \ud83d\udcbe Export Test Results (Optional) { display-mode: \"form\" }\n",
        "#@markdown Download your test results as a JSON file:\n",
        "\n",
        "EXPORT_RESULTS = False #@param {type:\"boolean\"}\n",
        "\n",
        "if EXPORT_RESULTS:\n",
        "    # Prepare export data\n",
        "    export_data = {\n",
        "        \"metadata\": {\n",
        "            \"test_session\": \"Google Colab\",\n",
        "            \"start_time\": test_metadata[\"start_time\"].isoformat(),\n",
        "            \"end_time\": datetime.now().isoformat(),\n",
        "            \"environment\": ENVIRONMENT,\n",
        "            \"base_url\": BASE_URL,\n",
        "            \"user_id\": USER_ID\n",
        "        },\n",
        "        \"summary\": {\n",
        "            \"total_tests\": len([t for t in test_results.values() if t is not None]),\n",
        "            \"passed_tests\": len([t for t in test_results.values() if t and t.get(\"success\", False)]),\n",
        "            \"success_rate\": (len([t for t in test_results.values() if t and t.get(\"success\", False)]) / len([t for t in test_results.values() if t is not None]) * 100) if len([t for t in test_results.values() if t is not None]) > 0 else 0\n",
        "        },\n",
        "        \"test_results\": test_results,\n",
        "        \"test_data\": {\n",
        "            \"user_email\": USER_EMAIL,\n",
        "            \"lock_name\": LOCK_NAME,\n",
        "            \"lock_index\": LOCK_INDEX\n",
        "        }\n",
        "    }\n",
        "    \n",
        "    # Convert to JSON\n",
        "    import json\n",
        "    export_json = json.dumps(export_data, indent=2, default=str)\n",
        "    \n",
        "    # Save and download in Colab\n",
        "    filename = f\"smartlock_api_test_results_{ENVIRONMENT}_{int(time.time())}.json\"\n",
        "    with open(filename, 'w') as f:\n",
        "        f.write(export_json)\n",
        "    \n",
        "    print(f\"\ud83d\udcbe Results exported to: {filename}\")\n",
        "    \n",
        "    # Download file in Colab\n",
        "    try:\n",
        "        from google.colab import files\n",
        "        files.download(filename)\n",
        "        print(f\"\ud83d\udce5 File downloaded to your computer!\")\n",
        "    except ImportError:\n",
        "        print(f\"\ud83d\udcc1 File saved locally: {filename}\")\n",
        "        \n",
        "else:\n",
        "    print(\"\ud83d\udca1 Enable 'Export Results' above to download test results as JSON\")\n"
      ]
    }
  ],
  "metadata": {
    "colab": {
      "name": "SmartLock Admin API Testing",
      "provenance": [],
      "collapsed_sections": [],
      "toc_visible": true
    },
    "kernelspec": {
      "display_name": "Python 3",
      "name": "python3"
    },
    "language_info": {
      "name": "python",
      "version": "3.8+"
    },
    "publication_info": {
      "published_at": "2025-06-10T13:42:08.355867",
      "publisher": "SmartLock Admin API CI/CD",
      "environment": "staging",
      "source_commit": "initial-setup-1749562928"
    }
  },
  "nbformat": 4,
  "nbformat_minor": 0
}